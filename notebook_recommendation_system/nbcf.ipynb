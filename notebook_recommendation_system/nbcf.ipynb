{
 "cells": [
  {
   "cell_type": "code",
   "execution_count": 2,
   "metadata": {},
   "outputs": [],
   "source": [
    "import pandas as pd\n",
    "import numpy as np\n",
    "from sklearn.metrics.pairwise import cosine_similarity\n",
    "from scipy import sparse"
   ]
  },
  {
   "cell_type": "code",
   "execution_count": 3,
   "metadata": {},
   "outputs": [],
   "source": [
    "class CF(object):\n",
    "    def __init__(self, Y_data, k, sim_func = cosine_similarity, uuCF = 1):\n",
    "        self.uuCF       = uuCF # user-user (1) or item-item (0) CF\n",
    "        # Y_data is a 2d array of shape (n_users, 3), each row of Y_data has form [user_id, item_id, rating]\n",
    "        self.Y_data     = Y_data if uuCF else Y_data[:, [1, 0, 2]]\n",
    "        self.k          = k # number of neighborhoods\n",
    "        self.sim_func   = sim_func # sim function, default cosine similarity\n",
    "        self.Ybar_data  = None # normalized data\n",
    "        self.n_users    = int(np.max(self.Y_data[:, 0])) + 1 # number of users\n",
    "        self.n_items    = int(np.max(self.Y_data[:, 1])) + 1 # number of items\n",
    "    \n",
    "    def normalize_Y(self):\n",
    "        users = self.Y_data[:, 0] # all users - first col of the Y_data\n",
    "        self.Ybar_data = self.Y_data.copy()\n",
    "        self.mu = np.zeros((self.n_users,))\n",
    "        for n in range(self.n_users):\n",
    "            # row indices of ratings made by user n\n",
    "            ids = np.where(users == n)[0].astype(np.int32)\n",
    "            ratings = self.Y_data[ids, 2]  # ratings made by user n \n",
    "            self.mu[n] = np.mean(ratings) if ids.size > 0 else 0 # avoid zero division \n",
    "            self.Ybar_data[ids, 2] = (ratings - self.mu[n]).flatten()\n",
    "        \n",
    "        ## form the rating matrix as a sparse matrix\n",
    "        data = np.asarray(self.Ybar_data[:, 2]).flatten()\n",
    "        row = np.asarray(self.Ybar_data[:, 1]).flatten()\n",
    "        col = np.asarray(self.Ybar_data[:, 0]).flatten()\n",
    "        shape = np.asarray((int(self.n_items),int(self.n_users))).flatten()\n",
    "        self.Ybar = sparse.coo_matrix((data,(row, col)), shape=shape).tocsr()\n",
    "\n",
    "    def similarity(self):\n",
    "        self.S = self.sim_func(self.Ybar.T, self.Ybar.T)\n",
    "\n",
    "    def fit(self):\n",
    "        self.normalize_Y()\n",
    "        self.similarity() \n",
    "        \n",
    "    # predict the rating of user u for item i\n",
    "    def __pred(self, u, i):\n",
    "        # find item\n",
    "        ids = np.where(self.Y_data[:, 1] == i)[0].astype(np.int32)\n",
    "        # all users who rated i\n",
    "        users_rated_i = (self.Y_data[ids, 0]).astype(np.int32)\n",
    "        # similarity between u and users_rated_i\n",
    "        sim = self.S[u, users_rated_i].flatten()\n",
    "        # find k most similarity users\n",
    "        a = np.argsort(sim)[-self.k:] \n",
    "        nearest_s = sim[a] # and the corresponding similarity values\n",
    "        # the corresponding ratings\n",
    "        r = self.Ybar[i, users_rated_i[a]]\n",
    "        return (r*nearest_s).sum()/(np.abs(nearest_s).sum() + 1e-8) + self.mu[u]\n",
    "    \n",
    "    def pred(self, u, i):\n",
    "        if self.uuCF: return self.__pred(u, i)\n",
    "        return self.__pred(i, u)\n",
    "\n",
    "    def evaluate_RMSE(self, rate_test):\n",
    "        n_tests = rate_test.shape[0]\n",
    "        SE = 0\n",
    "        for n in range(n_tests):\n",
    "            pred = self.pred(rate_test[n, 0], rate_test[n, 1])\n",
    "            SE += (pred - rate_test[n, 2])**2 \n",
    "        \n",
    "        RMSE = np.sqrt(SE/n_tests)\n",
    "        return RMSE"
   ]
  },
  {
   "cell_type": "code",
   "execution_count": 4,
   "metadata": {},
   "outputs": [],
   "source": [
    "r_cols = ['user_id', 'movie_id', 'rating', 'unix_timestamp']\n",
    "\n",
    "ratings_base = pd.read_csv('ml-100k/ua.base', sep='\\t', names=r_cols, encoding='latin-1')\n",
    "ratings_test = pd.read_csv('ml-100k/ua.test', sep='\\t', names=r_cols, encoding='latin-1')\n",
    "\n",
    "rate_train = np.asmatrix(ratings_base)\n",
    "rate_test = np.asmatrix(ratings_test)\n",
    "\n",
    "# indices start from 0\n",
    "rate_train[:, :2] -= 1\n",
    "rate_test[:, :2] -= 1"
   ]
  },
  {
   "cell_type": "code",
   "execution_count": 5,
   "metadata": {},
   "outputs": [],
   "source": [
    "rs = CF(rate_train, k = 40, uuCF = 1)\n",
    "rs.fit()\n",
    "rs_i = CF(rate_train, k = 40, uuCF = 0)\n",
    "rs_i.fit()"
   ]
  },
  {
   "cell_type": "code",
   "execution_count": 6,
   "metadata": {},
   "outputs": [
    {
     "name": "stdout",
     "output_type": "stream",
     "text": [
      "User-user CF, RMSE = 0.9766140289287265\n",
      "Item-item CF, RMSE = 0.9688460838682366\n"
     ]
    }
   ],
   "source": [
    "print('User-user CF, RMSE =', rs.evaluate_RMSE(rate_test))\n",
    "print('Item-item CF, RMSE =', rs_i.evaluate_RMSE(rate_test))"
   ]
  }
 ],
 "metadata": {
  "kernelspec": {
   "display_name": "Python 3",
   "language": "python",
   "name": "python3"
  },
  "language_info": {
   "codemirror_mode": {
    "name": "ipython",
    "version": 3
   },
   "file_extension": ".py",
   "mimetype": "text/x-python",
   "name": "python",
   "nbconvert_exporter": "python",
   "pygments_lexer": "ipython3",
   "version": "3.10.9"
  },
  "orig_nbformat": 4,
  "vscode": {
   "interpreter": {
    "hash": "6a4eb5f4c79d4e05c63481b3df8f15c06ab8b0cd9d0505c5d1727c45c974d525"
   }
  }
 },
 "nbformat": 4,
 "nbformat_minor": 2
}
