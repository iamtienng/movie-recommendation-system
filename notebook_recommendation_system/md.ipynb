{
 "cells": [
  {
   "cell_type": "code",
   "execution_count": 1,
   "metadata": {},
   "outputs": [],
   "source": [
    "import json\n",
    "import pandas as pd\n",
    "import numpy as np"
   ]
  },
  {
   "cell_type": "code",
   "execution_count": 2,
   "metadata": {},
   "outputs": [],
   "source": [
    "class MF(object):\n",
    "    def __init__(self, Y, K, lam = 0.1, Xinit = None, Winit = None, \n",
    "    learning_rate = 0.5, max_iter = 10000, print_every = 100):\n",
    "        self.Y = Y      # represents the utility matrix\n",
    "        self.K = K      # number of features\n",
    "        self.lam = lam  # regularization parameter\n",
    "        self.learning_rate = learning_rate  # for gradient descent\n",
    "        self.max_iter = max_iter            # maximum number of iterations\n",
    "        self.print_every = print_every      # print loss after each a few iters\n",
    "        self.n_users = int(np.max(Y[:, 0])) + 1\n",
    "        self.users_ids = np.unique(np.asarray(Y[:,0].reshape(Y[:,0].shape[0])))\n",
    "        self.n_items = int(np.max(Y[:, 1])) + 1\n",
    "        self.items_ids = np.unique(np.asarray(Y[:,1].reshape(Y[:,1].shape[0])))\n",
    "        self.n_ratings = Y.shape[0]\n",
    "        self.X = np.random.randn(self.n_items, K) if Xinit is None else Xinit\n",
    "        self.W = np.random.randn(K, self.n_users) if Winit is None else Winit\n",
    "        self.b = np.random.randn(self.n_items)  # item biases\n",
    "        self.d = np.random.randn(self.n_users)  # user biases\n",
    "\n",
    "    # return current loss value\n",
    "    def loss(self):\n",
    "        L = 0\n",
    "        for i in range(self.n_ratings):\n",
    "            # user_id, item_id, rating\n",
    "            n, m, rating = int(self.Y[i, 0]), int(self.Y[i, 1]), self.Y[i, 2]\n",
    "            L += 0.5*(self.X[m].dot(self.W[:,n]) + self.b[m] + self.d[n] - rating)**2\n",
    "        L /= self.n_ratings\n",
    "        # regularization, don't ever forget this\n",
    "        return L + 0.5*self.lam*(np.sum(self.X**2) + np.sum(self.W**2))\n",
    "    \n",
    "    def updateXb(self):\n",
    "        for m in self.items_ids:\n",
    "            ids = np.where(self.Y[:, 1] == m)[0] # row indices of items m\n",
    "            user_ids, ratings = self.Y[ids, 0].astype(np.int32), self.Y[ids, 2]\n",
    "            Wm, dm = self.W[:, user_ids], self.d[user_ids]\n",
    "            Wm = Wm.reshape(Wm.shape[0], Wm.shape[1])\n",
    "            for i in range(30): # 30 iteration for each sub problem\n",
    "                xm = self.X[m]\n",
    "                error = Wm.T.dot(xm).reshape(-1,1) + self.b[m] + dm - ratings\n",
    "                grad_xm = Wm.dot(error)/self.n_ratings + (self.lam*xm).reshape(-1,1)\n",
    "                grad_bm = np.sum(error)/self.n_ratings\n",
    "                # gradient descent\n",
    "                self.X[m] -= np.array((self.learning_rate*grad_xm).T)[0]\n",
    "                self.b[m] -= rs.learning_rate*grad_bm\n",
    "\n",
    "    def updateWd(self):\n",
    "        for n in self.users_ids:\n",
    "            # get all items rated by user n, and the corresponding ratings\n",
    "            ids = np.where(self.Y[:, 0] == n)[0]\n",
    "            item_ids, ratings = self.Y[ids, 1].astype(np.int32), self.Y[ids, 2]\n",
    "            Xn, bn = self.X[item_ids], self.b[item_ids]\n",
    "            for i in range(30): # 30 iteration for each sub problem\n",
    "                wn = self.W[:, n]\n",
    "                error = Xn.dot(wn) + bn + self.d[n] - ratings\n",
    "                grad_wn = Xn.T.dot(error)/self.n_ratings + self.lam*wn\n",
    "                grad_dn = np.sum(error)/self.n_ratings\n",
    "                # gradient descent\n",
    "                self.W[:, n] -= np.array(self.learning_rate*grad_wn.reshape(-1))[0]\n",
    "                self.d[n]    -= self.learning_rate*grad_dn\n",
    "\n",
    "    def fit(self):\n",
    "        for it in range(self.max_iter):\n",
    "            self.updateXb()\n",
    "            self.updateWd()\n",
    "            if (it+1) % self.print_every == 0:\n",
    "                rsme_train = self.evaluate_RMSE(self.Y)\n",
    "                # print(\"iter = \",it+1 ,\", loss = \"+self.loss(),\", RMSE train = \",rsme_train)\n",
    "                print(it+1)\n",
    "                print(self.loss())\n",
    "                print(rsme_train)\n",
    "                print(self.evaluate_RMSE(rate_test))\n",
    "\n",
    "    def pred(self, u, i):\n",
    "        # predict the rating of user u for item i\n",
    "        u, i = int(u), int(i)\n",
    "        try:\n",
    "            pred = self.X[i, :].dot(self.W[:, u]) + self.b[i] + self.d[u]\n",
    "        except:\n",
    "            return 0\n",
    "        return max(0, min(5, pred))\n",
    "\n",
    "    def evaluate_RMSE(self, rate_test):\n",
    "        n_tests = rate_test.shape[0]\n",
    "        SE = 0\n",
    "        for n in range(n_tests):\n",
    "            pred = self.pred(rate_test[n, 0], rate_test[n, 1])\n",
    "            SE += (pred - rate_test[n, 2])**2\n",
    "        \n",
    "        RMSE = np.sqrt(SE/n_tests)\n",
    "        return RMSE"
   ]
  },
  {
   "cell_type": "code",
   "execution_count": 3,
   "metadata": {},
   "outputs": [],
   "source": [
    "r_cols = ['user_id', 'item_id', 'rating', 'unix_timestamp']\n",
    "ratings_base = pd.read_csv('ml-100k/ua.base',sep='\\t', names=r_cols)\n",
    "ratings_test = pd.read_csv('ml-100k/ua.test',sep='\\t', names=r_cols)\n",
    "\n",
    "rate_train = np.asmatrix(ratings_base)\n",
    "rate_test = np.asmatrix(ratings_test)"
   ]
  },
  {
   "cell_type": "code",
   "execution_count": 4,
   "metadata": {},
   "outputs": [],
   "source": [
    "# indices start from 0\n",
    "rate_train[:, :2] -= 1\n",
    "rate_test[:, :2] -= 1"
   ]
  },
  {
   "cell_type": "code",
   "execution_count": 6,
   "metadata": {},
   "outputs": [
    {
     "name": "stdout",
     "output_type": "stream",
     "text": [
      "5\n",
      "0.9813242949856356\n",
      "0.9576538777513495\n",
      "1.0334281333969082\n",
      "10\n",
      "0.9517149245758885\n",
      "0.927083129976136\n",
      "0.9825093531726448\n",
      "15\n",
      "0.9439737011472505\n",
      "0.9189954890904248\n",
      "0.971302106084739\n",
      "20\n",
      "0.9407339857967102\n",
      "0.9156333436753306\n",
      "0.9675119236760502\n",
      "25\n",
      "0.9390274877027561\n",
      "0.9138814638591751\n",
      "0.9658114878351727\n",
      "30\n",
      "0.938001148320693\n",
      "0.9128350514306869\n",
      "0.9648862591718131\n"
     ]
    }
   ],
   "source": [
    "rs = MF(rate_train, K = 50, lam = .01, print_every = 5, learning_rate = 50,max_iter = 30)\n",
    "rs.fit()"
   ]
  },
  {
   "cell_type": "code",
   "execution_count": 9,
   "metadata": {},
   "outputs": [
    {
     "data": {
      "image/png": "[encoded data removed]",
      "text/plain": [
       "<Figure size 432x288 with 1 Axes>"
      ]
     },
     "metadata": {
      "needs_background": "light"
     },
     "output_type": "display_data"
    }
   ],
   "source": [
    "step = list(range(70000,90570,50))\n",
    "import matplotlib.pyplot as plt\n",
    "plt.plot(step,np.asarray(train_err), \"r-+\", linewidth=2, label=\"train\")\n",
    "plt.plot(step,np.asarray(val_err), \"b-\", linewidth=3, label=\"val\")\n",
    "plt.legend(loc=\"upper right\", fontsize=14)\n",
    "plt.xlabel(\"Training set size\", fontsize=14)\n",
    "plt.ylabel(\"RMSE\", fontsize=14)\n",
    "plt.axis([70000, 90570, 0.9, 2.1])\n",
    "plt.yticks(np.arange(min(np.asarray(train_err)), max(np.asarray(val_err)), 0.1))\n",
    "plt.show()"
   ]
  },
  {
   "cell_type": "code",
   "execution_count": 13,
   "metadata": {},
   "outputs": [
    {
     "data": {
      "text/plain": [
       "(90570, 4)"
      ]
     },
     "execution_count": 13,
     "metadata": {},
     "output_type": "execute_result"
    }
   ],
   "source": [
    "rate_test.shape\n",
    "rate_train.shape\n"
   ]
  }
 ],
 "metadata": {
  "interpreter": {
   "hash": "e6d01fb95f95024a48e1a45fe820a33330a3d329b2755219bbba00e53c7554d7"
  },
  "kernelspec": {
   "display_name": "Python 3.10.4 ('ev_3')",
   "language": "python",
   "name": "python3"
  },
  "language_info": {
   "codemirror_mode": {
    "name": "ipython",
    "version": 3
   },
   "file_extension": ".py",
   "mimetype": "text/x-python",
   "name": "python",
   "nbconvert_exporter": "python",
   "pygments_lexer": "ipython3",
   "version": "3.10.4"
  },
  "orig_nbformat": 4
 },
 "nbformat": 4,
 "nbformat_minor": 2
}
