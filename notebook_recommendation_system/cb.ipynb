{
 "cells": [
  {
   "cell_type": "code",
   "execution_count": 1,
   "metadata": {},
   "outputs": [
    {
     "name": "stdout",
     "output_type": "stream",
     "text": [
      "Number of users:  943\n",
      "Number of traing rates:  90570\n",
      "Number of test rates:  9430\n"
     ]
    }
   ],
   "source": [
    "import pandas as pd\n",
    "import numpy as np\n",
    "\n",
    "#Read user file:\n",
    "u_cols=['user_id', 'age', 'sex', 'occupation', 'zip_code']\n",
    "users=pd.read_csv('ml-100k/u.user',sep=\"|\",names=u_cols,encoding='latin-1')\n",
    "n_users = users.shape[0]\n",
    "print('Number of users: ', n_users)\n",
    "\n",
    "#Read ratings file:\n",
    "r_cols=['user_id', 'movie_id', 'rating', 'unix_timestamp']\n",
    "\n",
    "ratings_base = pd.read_csv('ml-100k/ua.base', sep='\\t', names=r_cols, encoding='latin-1')\n",
    "ratings_test = pd.read_csv('ml-100k/ua.test', sep='\\t', names=r_cols, encoding='latin-1')\n",
    "\n",
    "rate_train = ratings_base.to_numpy()\n",
    "rate_test = ratings_test.to_numpy()\n",
    "\n",
    "print('Number of traing rates: ', rate_train.shape[0])\n",
    "print('Number of test rates: ', rate_test.shape[0])"
   ]
  },
  {
   "cell_type": "code",
   "execution_count": 2,
   "metadata": {},
   "outputs": [
    {
     "name": "stdout",
     "output_type": "stream",
     "text": [
      "Number of items:  1682\n"
     ]
    }
   ],
   "source": [
    "#Reading items file:\n",
    "i_cols = ['movie id', 'movie title' ,'release date','video release date', 'IMDb URL', 'unknown', 'Action', 'Adventure',\n",
    " 'Animation', 'Children\\'s', 'Comedy', 'Crime', 'Documentary', 'Drama', 'Fantasy',\n",
    " 'Film-Noir', 'Horror', 'Musical', 'Mystery', 'Romance', 'Sci-Fi', 'Thriller', 'War', 'Western']\n",
    "\n",
    "items = pd.read_csv('ml-100k/u.item', sep='|', names=i_cols, encoding='latin-1')\n",
    "\n",
    "n_items = items.shape[0]\n",
    "print('Number of items: ', n_items)"
   ]
  },
  {
   "cell_type": "code",
   "execution_count": 3,
   "metadata": {},
   "outputs": [],
   "source": [
    "# Build Item Profile with Movie Genres, they are the last 19 columns\n",
    "X0 = np.asmatrix(items)\n",
    "X_train_counts = X0[:,-19:]"
   ]
  },
  {
   "cell_type": "code",
   "execution_count": 4,
   "metadata": {},
   "outputs": [
    {
     "name": "stdout",
     "output_type": "stream",
     "text": [
      "[[        1         1         5 874965758]\n",
      " [        1         2         3 876893171]\n",
      " [        1         3         4 878542960]\n",
      " [        1         4         3 876893119]]\n"
     ]
    }
   ],
   "source": [
    "print(rate_train[:4, :])"
   ]
  },
  {
   "cell_type": "code",
   "execution_count": 5,
   "metadata": {},
   "outputs": [],
   "source": [
    "from sklearn.feature_extraction.text import TfidfTransformer\n",
    "transformer = TfidfTransformer(smooth_idf=True, norm ='l2')\n",
    "X = transformer.fit_transform(X_train_counts.tolist()).toarray()"
   ]
  },
  {
   "cell_type": "code",
   "execution_count": 6,
   "metadata": {},
   "outputs": [],
   "source": [
    "def get_items_rated_by_users(rate_matrix,user_id):\n",
    "    \"\"\"\n",
    "    in each line of rate_matrix, we have infor: user_id, item_id, rating (scores), time_stamp\n",
    "    we care about the first three values\n",
    "    \"\"\"\n",
    "    y=rate_matrix[:,0] # all users\n",
    "    # item indices rated by user_id\n",
    "    # we need to +1 to user_id since in the rate_matrix, id starts from 1 \n",
    "    # while index in python starts from 0\n",
    "    ids = np.where(y == user_id +1)[0] \n",
    "    item_ids = rate_matrix[ids, 1] - 1 # index starts from 0 \n",
    "    scores = rate_matrix[ids, 2]\n",
    "    return (item_ids, scores)"
   ]
  },
  {
   "cell_type": "code",
   "execution_count": 7,
   "metadata": {},
   "outputs": [],
   "source": [
    "from sklearn.linear_model import Ridge\n",
    "from sklearn import linear_model\n",
    "d=X.shape[1] #data dimension\n",
    "W = np.zeros((d, n_users))\n",
    "b = np.zeros((1, n_users))\n",
    "for n in range(n_users):\n",
    "    ids, scores = get_items_rated_by_users(rate_train,n)\n",
    "    if(len(ids)==0):\n",
    "        W[:,n]=0\n",
    "        b[0,n]=0\n",
    "        continue\n",
    "    clf=Ridge(alpha=0.01, fit_intercept=True)\n",
    "    Xhat=X[ids,:]\n",
    "    clf.fit(Xhat,scores)\n",
    "    W[:,n]=clf.coef_\n",
    "    b[0,n]=clf.intercept_"
   ]
  },
  {
   "cell_type": "code",
   "execution_count": 8,
   "metadata": {},
   "outputs": [],
   "source": [
    "#predicted scores\n",
    "Yhat=X.dot(W)+b"
   ]
  },
  {
   "cell_type": "code",
   "execution_count": 10,
   "metadata": {},
   "outputs": [
    {
     "name": "stdout",
     "output_type": "stream",
     "text": [
      "Rated movies ids :  [134 301 320 483 492 497 503 681 704 885]\n",
      "True ratings :  [4 4 4 5 5 4 5 2 5 2]\n",
      "Predicted ratings:  [3.42 3.56 4.7  3.82 3.66 3.53 4.19 3.67 4.03 3.64]\n"
     ]
    }
   ],
   "source": [
    "n = 30\n",
    "np.set_printoptions(precision=2) # 2 digits after .\n",
    "ids, scores = get_items_rated_by_users(rate_test, n)\n",
    "print('Rated movies ids : ', ids )\n",
    "print('True ratings : ', scores)\n",
    "print('Predicted ratings: ', Yhat[ids, n])"
   ]
  },
  {
   "cell_type": "code",
   "execution_count": 14,
   "metadata": {},
   "outputs": [
    {
     "name": "stdout",
     "output_type": "stream",
     "text": [
      "RMSE for training:  0.27453050104193866\n",
      "RMSE for test :  0.6113579566395051\n"
     ]
    }
   ],
   "source": [
    "from math import sqrt\n",
    "def evaluate(Yhat, rates, W, b):\n",
    "    se=0\n",
    "    cnt=0\n",
    "    for n in range(n_users):\n",
    "        ids,scores_truth=get_items_rated_by_users(rates,n)\n",
    "        scores_pred=Yhat[ids,n]\n",
    "        e=scores_truth-scores_pred\n",
    "        se+=np.linalg.norm(e)\n",
    "        cnt+=e.size\n",
    "    return sqrt(se/cnt)\n",
    "\n",
    "print('RMSE for training: ', evaluate(Yhat, rate_train, W, b))\n",
    "print('RMSE for test : ', evaluate(Yhat, rate_test, W, b))"
   ]
  }
 ],
 "metadata": {
  "kernelspec": {
   "display_name": "ev_3",
   "language": "python",
   "name": "python3"
  },
  "language_info": {
   "codemirror_mode": {
    "name": "ipython",
    "version": 3
   },
   "file_extension": ".py",
   "mimetype": "text/x-python",
   "name": "python",
   "nbconvert_exporter": "python",
   "pygments_lexer": "ipython3",
   "version": "3.10.4"
  },
  "orig_nbformat": 4,
  "vscode": {
   "interpreter": {
    "hash": "e6d01fb95f95024a48e1a45fe820a33330a3d329b2755219bbba00e53c7554d7"
   }
  }
 },
 "nbformat": 4,
 "nbformat_minor": 2
}
